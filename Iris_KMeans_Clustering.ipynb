{
  "cells": [
    {
      "cell_type": "markdown",
      "source": [
        "# **TASK - 02** - **Spark Foundation**"
      ],
      "metadata": {
        "id": "0cxedLWdBR0k"
      },
      "id": "0cxedLWdBR0k"
    },
    {
      "cell_type": "markdown",
      "source": [
        "# **Utkarsh Chasley**"
      ],
      "metadata": {
        "id": "P6y9l7ldBrbs"
      },
      "id": "P6y9l7ldBrbs"
    },
    {
      "cell_type": "markdown",
      "source": [
        "# **Predict Optimum Numbers of cluster and represent it visually.**"
      ],
      "metadata": {
        "id": "jo0J_ILWBVC9"
      },
      "id": "jo0J_ILWBVC9"
    },
    {
      "cell_type": "code",
      "source": [
        "import pandas as pd\n",
        "import matplotlib.pyplot as plt\n",
        "from sklearn.cluster import KMeans\n",
        "from sklearn.preprocessing import MinMaxScaler"
      ],
      "metadata": {
        "id": "MeSR8bUsA_7K"
      },
      "id": "MeSR8bUsA_7K",
      "execution_count": null,
      "outputs": []
    },
    {
      "cell_type": "code",
      "execution_count": null,
      "id": "81531c2e",
      "metadata": {
        "id": "81531c2e"
      },
      "outputs": [],
      "source": [
        "data = pd.read_csv(\"/content/Iris.csv\")"
      ]
    },
    {
      "cell_type": "code",
      "execution_count": null,
      "id": "79d37ef0",
      "metadata": {
        "id": "79d37ef0"
      },
      "outputs": [],
      "source": [
        "data.head()"
      ]
    },
    {
      "cell_type": "code",
      "execution_count": null,
      "id": "97a7156b",
      "metadata": {
        "id": "97a7156b"
      },
      "outputs": [],
      "source": [
        "data.info()"
      ]
    },
    {
      "cell_type": "code",
      "execution_count": null,
      "id": "7856a71f",
      "metadata": {
        "id": "7856a71f"
      },
      "outputs": [],
      "source": [
        "df = data.drop(columns = [\"Species\", \"Id\"], axis=1)\n",
        "df\n",
        "df0 = df.values\n",
        "df0"
      ]
    },
    {
      "cell_type": "code",
      "execution_count": null,
      "id": "a3f0e171",
      "metadata": {
        "id": "a3f0e171"
      },
      "outputs": [],
      "source": [
        "df0.shape"
      ]
    },
    {
      "cell_type": "code",
      "execution_count": null,
      "id": "80947642",
      "metadata": {
        "id": "80947642"
      },
      "outputs": [],
      "source": [
        "scaler = MinMaxScaler()\n",
        "norm_data = scaler.fit_transform(df0)\n",
        "norm_data"
      ]
    },
    {
      "cell_type": "code",
      "execution_count": null,
      "id": "64cc57e7",
      "metadata": {
        "id": "64cc57e7"
      },
      "outputs": [],
      "source": [
        "li = []\n",
        "for i in range(1, 11):\n",
        "    kmeans = KMeans(n_clusters = i, random_state = 0)\n",
        "    kmeans.fit(norm_data)\n",
        "    li.append(kmeans.inertia_)"
      ]
    },
    {
      "cell_type": "code",
      "execution_count": null,
      "id": "07772bd6",
      "metadata": {
        "id": "07772bd6"
      },
      "outputs": [],
      "source": [
        "plt.plot(range(1, 11), li)"
      ]
    },
    {
      "cell_type": "code",
      "execution_count": null,
      "id": "872d52ba",
      "metadata": {
        "id": "872d52ba"
      },
      "outputs": [],
      "source": [
        "kmeans = KMeans(n_clusters = 3, random_state = 0)\n",
        "y_kmeans = kmeans.fit_predict(norm_data)"
      ]
    },
    {
      "cell_type": "code",
      "execution_count": null,
      "id": "9f2ea24e",
      "metadata": {
        "id": "9f2ea24e"
      },
      "outputs": [],
      "source": [
        "y_kmeans"
      ]
    },
    {
      "cell_type": "code",
      "source": [
        "data['Species'].unique()"
      ],
      "metadata": {
        "id": "R7w2ZXko9Zbe"
      },
      "id": "R7w2ZXko9Zbe",
      "execution_count": null,
      "outputs": []
    },
    {
      "cell_type": "code",
      "source": [
        "plt.scatter(norm_data[y_kmeans==0, 0], norm_data[y_kmeans==0, 1], label='Iris-setosa')\n",
        "plt.scatter(norm_data[y_kmeans==1, 0], norm_data[y_kmeans==1, 1], label='Iris-versicolor')\n",
        "plt.scatter(norm_data[y_kmeans==2, 0], norm_data[y_kmeans==2, 1], label='Iris-versicolor')\n",
        "plt.legend()\n",
        "plt.show()"
      ],
      "metadata": {
        "id": "FFixKaa89wxy"
      },
      "id": "FFixKaa89wxy",
      "execution_count": null,
      "outputs": []
    },
    {
      "cell_type": "code",
      "source": [
        ""
      ],
      "metadata": {
        "id": "dogyYsmR-wt6"
      },
      "id": "dogyYsmR-wt6",
      "execution_count": null,
      "outputs": []
    },
    {
      "cell_type": "code",
      "source": [
        ""
      ],
      "metadata": {
        "id": "jxUZPcbbAfim"
      },
      "id": "jxUZPcbbAfim",
      "execution_count": null,
      "outputs": []
    }
  ],
  "metadata": {
    "kernelspec": {
      "display_name": "Python 3 (ipykernel)",
      "language": "python",
      "name": "python3"
    },
    "language_info": {
      "codemirror_mode": {
        "name": "ipython",
        "version": 3
      },
      "file_extension": ".py",
      "mimetype": "text/x-python",
      "name": "python",
      "nbconvert_exporter": "python",
      "pygments_lexer": "ipython3",
      "version": "3.9.7"
    },
    "colab": {
      "name": "Iris - KMeans Clustering.ipynb",
      "provenance": []
    }
  },
  "nbformat": 4,
  "nbformat_minor": 5
}